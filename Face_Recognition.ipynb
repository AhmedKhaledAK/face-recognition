{
  "nbformat": 4,
  "nbformat_minor": 0,
  "metadata": {
    "colab": {
      "name": "Face_Recognition.ipynb",
      "provenance": [],
      "collapsed_sections": [],
      "toc_visible": true,
      "mount_file_id": "1F5298L49HUx-s4sqB5__KQm34gHax2ZS",
      "authorship_tag": "ABX9TyP2RN8GFVQa8/djpiZYR1YI",
      "include_colab_link": true
    },
    "kernelspec": {
      "display_name": "Python 3",
      "name": "python3"
    }
  },
  "cells": [
    {
      "cell_type": "markdown",
      "metadata": {
        "id": "view-in-github",
        "colab_type": "text"
      },
      "source": [
        "<a href=\"https://colab.research.google.com/github/AhmedKhaledAK/face-recognition/blob/master/Face_Recognition.ipynb\" target=\"_parent\"><img src=\"https://colab.research.google.com/assets/colab-badge.svg\" alt=\"Open In Colab\"/></a>"
      ]
    },
    {
      "cell_type": "code",
      "metadata": {
        "id": "4CFa_LfjiqYU"
      },
      "source": [
        "import numpy as np\n",
        "import matplotlib.pyplot as plt"
      ],
      "execution_count": null,
      "outputs": []
    },
    {
      "cell_type": "code",
      "metadata": {
        "id": "AjJLVyfMvE0X"
      },
      "source": [
        "img1 = plt.imread(\"/content/drive/MyDrive/Datasets/Faces/s1/1.pgm\", format=None)\n",
        "img1 = np.array(img1).flatten()\n",
        "print(img1)"
      ],
      "execution_count": null,
      "outputs": []
    },
    {
      "cell_type": "code",
      "metadata": {
        "id": "7Cfd4BKUvlZF"
      },
      "source": [
        "data_matrix = np.zeros((50, 10304))\n",
        "for i in range(1, 6):\n",
        "  for j in range(1, 11):\n",
        "    path = '/content/drive/MyDrive/Datasets/Faces/s{}/{}.pgm'.format(i, j)\n",
        "    img = plt.imread(path, format=None)\n",
        "    img = np.array(img).flatten()\n",
        "    data_matrix[ (i - 1) * 10 + j - 1] = img\n",
        "print(data_matrix)"
      ],
      "execution_count": null,
      "outputs": []
    },
    {
      "cell_type": "code",
      "metadata": {
        "id": "hOUiia4I4OVj"
      },
      "source": [
        "label_vector = np.zeros((400))\n",
        "for i in range(1, 41):\n",
        "  np.put(label_vector, range((i-1)*10, i*10), i)\n",
        "print(label_vector)"
      ],
      "execution_count": null,
      "outputs": []
    },
    {
      "cell_type": "code",
      "metadata": {
        "id": "CNP6VPfP8YAa"
      },
      "source": [
        "test_matrix = np.array(data_matrix[::2])\n",
        "training_matrix = np.array(data_matrix[1::2])\n",
        "\n",
        "print(training_matrix)\n",
        "print(test_matrix)\n",
        "print(test_matrix.shape)\n",
        "print(training_matrix.shape)\n",
        "\n",
        "test_label_vector = np.array(label_vector[::2])\n",
        "training_label_vector = np.array(label_vector[1::2])\n",
        "\n",
        "print(test_label_vector)\n",
        "print(training_label_vector)\n",
        "print(test_label_vector.shape)\n",
        "print(training_label_vector.shape)"
      ],
      "execution_count": null,
      "outputs": []
    },
    {
      "cell_type": "code",
      "metadata": {
        "id": "L8ySYTi5CzAO"
      },
      "source": [
        "cov_matrix = np.cov(data_matrix, bias=True)\n",
        "print(cov_matrix)"
      ],
      "execution_count": null,
      "outputs": []
    },
    {
      "cell_type": "code",
      "metadata": {
        "id": "b1eD73u4Es-k"
      },
      "source": [
        "eigens = np.linalg.eig(cov_matrix)\n",
        "eigenvalues = eigens[0]\n",
        "eigenvectors = eigens[1]\n",
        "\n",
        "print(eigenvalues)\n",
        "print(eigenvectors)"
      ],
      "execution_count": null,
      "outputs": []
    },
    {
      "cell_type": "code",
      "metadata": {
        "id": "2E06_cjtGE4M"
      },
      "source": [
        "d = len(eigenvectors)\n",
        "r_values = []\n",
        "r = 0\n",
        "min_r = d + 1\n",
        "alpha = 0.8\n",
        "\n",
        "den_sum = np.sum(eigenvalues)\n",
        "\n",
        "while r < d:\n",
        "  func_r = 0\n",
        "  i = 0\n",
        "  while i <= r:\n",
        "    func_r += eigenvalues[i]\n",
        "    i += 1\n",
        "  func_r = func_r / den_sum\n",
        "  r_values.append(func_r)\n",
        "  if func_r >= alpha:\n",
        "    min_r = r\n",
        "    break\n",
        "  r += 1\n",
        "print(r)\n",
        "print(r_values)"
      ],
      "execution_count": null,
      "outputs": []
    },
    {
      "cell_type": "code",
      "metadata": {
        "id": "rOuMNSaWeW-j"
      },
      "source": [
        "U = eigenvectors[:, 0:r + 1]\n",
        "print(U)\n",
        "print(U.shape)"
      ],
      "execution_count": null,
      "outputs": []
    }
  ]
}